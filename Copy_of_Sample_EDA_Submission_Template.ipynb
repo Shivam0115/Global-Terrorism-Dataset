{
  "nbformat": 4,
  "nbformat_minor": 0,
  "metadata": {
    "colab": {
      "private_outputs": true,
      "provenance": [],
      "collapsed_sections": [
        "HhfV-JJviCcP",
        "Y3lxredqlCYt",
        "3RnN4peoiCZX",
        "x71ZqKXriCWQ",
        "7hBIi_osiCS2",
        "JlHwYmJAmNHm",
        "35m5QtbWiB9F",
        "PoPl-ycgm1ru",
        "H0kj-8xxnORC",
        "u3PMJOP6ngxN",
        "dauF4eBmngu3",
        "bKJF3rekwFvQ",
        "MSa1f5Uengrz",
        "GF8Ens_Soomf",
        "0wOQAZs5pc--",
        "K5QZ13OEpz2H",
        "lQ7QKXXCp7Bj",
        "448CDAPjqfQr",
        "KSlN3yHqYklG",
        "t6dVpIINYklI",
        "ijmpgYnKYklI",
        "-JiQyfWJYklI",
        "EM7whBJCYoAo",
        "fge-S5ZAYoAp",
        "85gYPyotYoAp",
        "RoGjAbkUYoAp",
        "4Of9eVA-YrdM",
        "iky9q4vBYrdO",
        "F6T5p64dYrdO",
        "y-Ehk30pYrdP",
        "bamQiAODYuh1",
        "QHF8YVU7Yuh3",
        "GwzvFGzlYuh3",
        "qYpmQ266Yuh3",
        "OH-pJp9IphqM",
        "bbFf2-_FphqN",
        "_ouA3fa0phqN",
        "Seke61FWphqN",
        "PIIx-8_IphqN",
        "t27r6nlMphqO",
        "r2jJGEOYphqO",
        "b0JNsNcRphqO",
        "BZR9WyysphqO",
        "jj7wYXLtphqO",
        "eZrbJ2SmphqO",
        "rFu4xreNphqO",
        "YJ55k-q6phqO",
        "gCFgpxoyphqP",
        "OVtJsKN_phqQ",
        "lssrdh5qphqQ",
        "U2RJ9gkRphqQ",
        "1M8mcRywphqQ",
        "tgIPom80phqQ",
        "JMzcOPDDphqR",
        "x-EpHcCOp1ci",
        "X_VqEhTip1ck",
        "8zGJKyg5p1ck",
        "PVzmfK_Ep1ck",
        "n3dbpmDWp1ck",
        "ylSl6qgtp1ck",
        "ZWILFDl5p1ck",
        "M7G43BXep1ck",
        "Ag9LCva-p1cl",
        "E6MkPsBcp1cl",
        "2cELzS2fp1cl",
        "3MPXvC8up1cl",
        "NC_X3p0fY2L0",
        "UV0SzAkaZNRQ",
        "YPEH6qLeZNRQ",
        "q29F0dvdveiT",
        "EXh0U9oCveiU",
        "22aHeOlLveiV",
        "JcMwzZxoAimU",
        "8G2x9gOozGDZ",
        "gCX9965dhzqZ",
        "gIfDvo9L0UH2"
      ],
      "include_colab_link": true
    },
    "kernelspec": {
      "name": "python3",
      "display_name": "Python 3"
    },
    "language_info": {
      "name": "python"
    }
  },
  "cells": [
    {
      "cell_type": "markdown",
      "metadata": {
        "id": "view-in-github",
        "colab_type": "text"
      },
      "source": [
        "<a href=\"https://colab.research.google.com/github/Shivam0115/Global-Terrorism-Dataset/blob/main/Copy_of_Sample_EDA_Submission_Template.ipynb\" target=\"_parent\"><img src=\"https://colab.research.google.com/assets/colab-badge.svg\" alt=\"Open In Colab\"/></a>"
      ]
    },
    {
      "cell_type": "markdown",
      "source": [
        "# **Project Name**    - **Global Terrorism Dataset**\n",
        "\n"
      ],
      "metadata": {
        "id": "vncDsAP0Gaoa"
      }
    },
    {
      "cell_type": "markdown",
      "source": [
        "##### **Project Type**    - EDA\n",
        "##### **Contribution**    - Individual"
      ],
      "metadata": {
        "id": "beRrZCGUAJYm"
      }
    },
    {
      "cell_type": "markdown",
      "source": [
        "# **Project Summary -**"
      ],
      "metadata": {
        "id": "FJNUwmbgGyua"
      }
    },
    {
      "cell_type": "markdown",
      "source": [
        "It's a Global Terrorism Database(GTD), We use this data as the base data for our project. It's an open-source online database and consists of detailed information regarding terrorist attacks that happened around the world from 1970-2017. The GTD maintained by National Consortium for Study of Terrorism and Response to Terrorism(Start), a Department of Homeland provides insight into data of events, number of casualties, target, location, type of attack, a group claiming responsibilities, and weapons that were used in that.\n",
        "\n",
        "**How Does Country Define Terrorism?**\n",
        "The definition of terrorism varies between countries and Organizations, and there is no Universal definition that us widely accepted. However, most definitions of terrorism share some common elements. Terrorism generally refers to the use of violence, intimidation, or coercion for political, ideological, or religious purposes, and is typically directed at non-combatants or civilians\n",
        "\n",
        "**Applying techniques:**-\n",
        "\n",
        "Import the essential libraries, Attach google collab to drive, to read the data file. Check the basic information about the dataset. check data type and also check null values. \n",
        "If null values are encountered the threat to them.\n",
        "Numpy and pandas are used for statistical analysis we do data wrangling and then we use matplotlib or seaborn for visualizations."
      ],
      "metadata": {
        "id": "F6v_1wHtG2nS"
      }
    },
    {
      "cell_type": "markdown",
      "source": [
        "# **GitHub Link -**"
      ],
      "metadata": {
        "id": "w6K7xa23Elo4"
      }
    },
    {
      "cell_type": "markdown",
      "source": [
        "[Click Here.](https://github.com/Shivam0115/Global-Terrorism-Dataset.git)"
      ],
      "metadata": {
        "id": "h1o69JH3Eqqn"
      }
    },
    {
      "cell_type": "markdown",
      "source": [
        "# **Problem Statement**\n"
      ],
      "metadata": {
        "id": "yQaldy8SH6Dl"
      }
    },
    {
      "cell_type": "markdown",
      "source": [
        "As a security or Defence Analyst, find out the which of  the countries and regions that are most affected by terrorist attacks, and how has this changed over time? What are the most common types of targets for terrorist attacks, and what industries are most vulnerable to these attacks?\n",
        " "
      ],
      "metadata": {
        "id": "DpeJGUA3kjGy"
      }
    },
    {
      "cell_type": "markdown",
      "source": [
        "#### **Define Your Business Objective?**"
      ],
      "metadata": {
        "id": "PH-0ReGfmX4f"
      }
    },
    {
      "cell_type": "markdown",
      "source": [
        "The objective of analyzing the Global Terrorism Dataset is to develop effective risk management strategies for the businesses to minimize the impact of terrorist by develop a predictive modeling that can accurately determine which highly active terrorist organization is reponsible for attack based on attribute field available in  Global Terrorism Dataset.\n",
        "What are the countries and regions that are most affected by terrorist attacks, and how has this changed over time?\n",
        "What are the most common types of targets for terrorist attacks, and what industries are most vulnerable to these attacks?\n",
        "What are the most common tactics and weapons used in terrorist attacks, and how can businesses protect themselves against these threats?\n",
        "What are the key drivers of terrorist attacks, and how can businesses identify and mitigate these risks? \n",
        "What is the trend before and after war?\n",
        "What are the most effective risk management strategies for businesses to adopt in order to reduce the impact of terrorist attacks on their operations, employees, and customers?"
      ],
      "metadata": {
        "id": "PhDvGCAqmjP1"
      }
    },
    {
      "cell_type": "markdown",
      "source": [
        "# **General Guidelines** : -  "
      ],
      "metadata": {
        "id": "mDgbUHAGgjLW"
      }
    },
    {
      "cell_type": "markdown",
      "source": [
        "1.   Well-structured, formatted, and commented code is required. \n",
        "2.   Exception Handling, Production Grade Code & Deployment Ready Code will be a plus. Those students will be awarded some additional credits. \n",
        "     \n",
        "     The additional credits will have advantages over other students during Star Student selection.\n",
        "       \n",
        "             [ Note: - Deployment Ready Code is defined as, the whole .ipynb notebook should be executable in one go\n",
        "                       without a single error logged. ]\n",
        "\n",
        "3.   Each and every logic should have proper comments.\n",
        "4. You may add as many number of charts you want. Make Sure for each and every chart the following format should be answered.\n",
        "        \n",
        "\n",
        "```\n",
        "# Chart visualization code\n",
        "```\n",
        "            \n",
        "\n",
        "*   Why did you pick the specific chart?\n",
        "*   What is/are the insight(s) found from the chart?\n",
        "* Will the gained insights help creating a positive business impact? \n",
        "Are there any insights that lead to negative growth? Justify with specific reason.\n",
        "\n",
        "5. You have to create at least 20 logical & meaningful charts having important insights.\n",
        "\n",
        "\n",
        "[ Hints : - Do the Vizualization in  a structured way while following \"UBM\" Rule. \n",
        "\n",
        "U - Univariate Analysis,\n",
        "\n",
        "B - Bivariate Analysis (Numerical - Categorical, Numerical - Numerical, Categorical - Categorical)\n",
        "\n",
        "M - Multivariate Analysis\n",
        " ]\n",
        "\n",
        "\n",
        "\n"
      ],
      "metadata": {
        "id": "ZrxVaUj-hHfC"
      }
    },
    {
      "cell_type": "markdown",
      "source": [
        "# ***Let's Begin !***"
      ],
      "metadata": {
        "id": "O_i_v8NEhb9l"
      }
    },
    {
      "cell_type": "markdown",
      "source": [
        "## ***1. Know Your Data***"
      ],
      "metadata": {
        "id": "HhfV-JJviCcP"
      }
    },
    {
      "cell_type": "markdown",
      "source": [
        "### Import Libraries"
      ],
      "metadata": {
        "id": "Y3lxredqlCYt"
      }
    },
    {
      "cell_type": "code",
      "source": [
        "# Import Libraries\n",
        "# Import Libraries\n",
        "import pandas as pd\n",
        "import numpy as np\n",
        "import matplotlib.pyplot as plt\n",
        "%matplotlib inline\n",
        "import seaborn as sns\n",
        "import warnings\n",
        "warnings.filterwarnings('ignore')\n",
        "import missingno as msno"
      ],
      "metadata": {
        "id": "M8Vqi-pPk-HR"
      },
      "execution_count": null,
      "outputs": []
    },
    {
      "cell_type": "markdown",
      "source": [
        "### Dataset Loading"
      ],
      "metadata": {
        "id": "3RnN4peoiCZX"
      }
    },
    {
      "cell_type": "code",
      "source": [
        "# Load Dataset\n",
        "from google.colab import drive\n",
        "drive.mount('/content/drive')\n"
      ],
      "metadata": {
        "id": "4CkvbW_SlZ_R"
      },
      "execution_count": null,
      "outputs": []
    },
    {
      "cell_type": "code",
      "source": [
        "# Import and Read the dataset\n",
        "# Read the Data, and change encoding to latin-1 to prevent from error:\n",
        "global_terrorism_df = pd.read_csv('/content/drive/MyDrive/Global Terrorism Data.csv',encoding='latin-1')"
      ],
      "metadata": {
        "id": "l6pWDv9cImPa"
      },
      "execution_count": null,
      "outputs": []
    },
    {
      "cell_type": "markdown",
      "source": [
        "### Dataset First View"
      ],
      "metadata": {
        "id": "x71ZqKXriCWQ"
      }
    },
    {
      "cell_type": "code",
      "source": [
        "# Dataset First Look\n",
        "global_terrorism_df.head()"
      ],
      "metadata": {
        "id": "LWNFOSvLl09H"
      },
      "execution_count": null,
      "outputs": []
    },
    {
      "cell_type": "markdown",
      "source": [
        "### Dataset Rows & Columns count"
      ],
      "metadata": {
        "id": "7hBIi_osiCS2"
      }
    },
    {
      "cell_type": "code",
      "source": [
        "# Dataset Rows & Columns count\n",
        "global_terrorism_df.shape"
      ],
      "metadata": {
        "id": "Kllu7SJgmLij"
      },
      "execution_count": null,
      "outputs": []
    },
    {
      "cell_type": "markdown",
      "source": [
        "### Dataset Information"
      ],
      "metadata": {
        "id": "JlHwYmJAmNHm"
      }
    },
    {
      "cell_type": "code",
      "source": [
        "# Dataset Info\n",
        "global_terrorism_df.info()"
      ],
      "metadata": {
        "id": "e9hRXRi6meOf"
      },
      "execution_count": null,
      "outputs": []
    },
    {
      "cell_type": "markdown",
      "source": [
        "#### Duplicate Values"
      ],
      "metadata": {
        "id": "35m5QtbWiB9F"
      }
    },
    {
      "cell_type": "code",
      "source": [
        "# Dataset Duplicate Value Count\n",
        "len(global_terrorism_df[global_terrorism_df.duplicated()])"
      ],
      "metadata": {
        "id": "1sLdpKYkmox0"
      },
      "execution_count": null,
      "outputs": []
    },
    {
      "cell_type": "code",
      "source": [
        "# Unique Values\n",
        "duplicate_value_count = global_terrorism_df.columns.nunique()\n",
        "print(f\"{duplicate_value_count}:total dataset unique  count\")"
      ],
      "metadata": {
        "id": "riIwAJpHMF_V"
      },
      "execution_count": null,
      "outputs": []
    },
    {
      "cell_type": "markdown",
      "source": [
        "#### Missing Values/Null Values"
      ],
      "metadata": {
        "id": "PoPl-ycgm1ru"
      }
    },
    {
      "cell_type": "code",
      "source": [
        "# Missing Values/Null Values Count\n",
        "\n",
        "print(global_terrorism_df.isnull().sum().sum())"
      ],
      "metadata": {
        "id": "GgHWkxvamxVg"
      },
      "execution_count": null,
      "outputs": []
    },
    {
      "cell_type": "code",
      "source": [
        "# Visualizing the missing values by heatmap\n",
        "\n",
        "sns.heatmap(global_terrorism_df.isnull(),cbar=False)"
      ],
      "metadata": {
        "id": "g9wb5Q7LN3zp"
      },
      "execution_count": null,
      "outputs": []
    },
    {
      "cell_type": "code",
      "source": [
        "\n",
        "# Visualizing the missing values by barplot\n",
        "# visulaize using Library\n",
        "msno.bar(global_terrorism_df)"
      ],
      "metadata": {
        "id": "3q5wnI3om9sJ"
      },
      "execution_count": null,
      "outputs": []
    },
    {
      "cell_type": "markdown",
      "source": [
        "### What did you know about your dataset?"
      ],
      "metadata": {
        "id": "H0kj-8xxnORC"
      }
    },
    {
      "cell_type": "markdown",
      "source": [
        "This Dataset belongs to Global Terrorism Database, and we have to analyze the cause and different insight that the dataset carried.\n",
        "\n",
        "\n",
        "1. The Dataset contains 135 columns. \n",
        "2. RangeIndex: 181691 entries, 0 to 181690\n",
        "Columns: 135 entries, eventid to related\n",
        "dtypes: float64(55), int64(22), object(58)\n",
        "memory usage: 187.1+ MB\n",
        "3. Shape and size of DataFrame is-((181691, 135))\n",
        "4. 135:total dataset unique value counts"
      ],
      "metadata": {
        "id": "gfoNAAC-nUe_"
      }
    },
    {
      "cell_type": "markdown",
      "source": [
        "## ***2. Understanding Your Variables***"
      ],
      "metadata": {
        "id": "nA9Y7ga8ng1Z"
      }
    },
    {
      "cell_type": "code",
      "source": [
        "# Dataset Columns\n",
        "global_terrorism_df.columns"
      ],
      "metadata": {
        "id": "j7xfkqrt5Ag5"
      },
      "execution_count": null,
      "outputs": []
    },
    {
      "cell_type": "code",
      "source": [
        "# Dataset Describe\n",
        "\n",
        "global_terrorism_df.describe(include='all')"
      ],
      "metadata": {
        "id": "DnOaZdaE5Q5t"
      },
      "execution_count": null,
      "outputs": []
    },
    {
      "cell_type": "markdown",
      "source": [
        "### Variables Description "
      ],
      "metadata": {
        "id": "PBTbrJXOngz2"
      }
    },
    {
      "cell_type": "markdown",
      "source": [
        "\n",
        "\n",
        "*   eventid :- Particulaar Event Id for every  Terrorist attacks\n",
        "\n",
        "*   iyear:- Contaning  year of event \n",
        "*   iday:- containing  day of event \n",
        "\n",
        "\n",
        "*   approxdate:- approximate date of particular event. \n",
        "\n",
        "\n",
        "*   extended:- Extended Number\n",
        "\n",
        "*   resolution:- The Particular Date of that event\n",
        "\n",
        "*   country :- The number of country\n",
        "*   country_txt:- Total Name of the Country\n",
        "\n",
        "\n",
        "*   region:- Containing Region Location\n",
        "\n",
        "*   region_txt:- Name of that region were attack happen  \n",
        "\n",
        "\n",
        "\n",
        "*   provstate:- Total name of the state\n",
        "\n",
        "\n",
        "*   city:- It containing city name attacked by terrorist\n",
        "\n",
        "*   latitude:- Poition shown by latitude\n",
        "*   longitude:- Position shown by longitude\n",
        "\n",
        "\n",
        "*   specificity:- Total number of specificity \n",
        "\n",
        "*   vicinity:- Total number of vicinity\n",
        "*   location:- Total Location\n",
        "\n",
        "*   gname = Containing Terrorist Organization name\n",
        "\n",
        "*   Target_type:- Name of the target which is targeted by terrorist\n",
        "*   addnote:- It contains attack details\n",
        "\n",
        "\n",
        "\n",
        "\n",
        "\n",
        "\n",
        "\n",
        "\n",
        "\n",
        "\n",
        "\n"
      ],
      "metadata": {
        "id": "aJV4KIxSnxay"
      }
    },
    {
      "cell_type": "markdown",
      "source": [
        "### Check Unique Values for each variable."
      ],
      "metadata": {
        "id": "u3PMJOP6ngxN"
      }
    },
    {
      "cell_type": "code",
      "source": [
        "# Check Unique Values for each variable.\n",
        "\n",
        "for i in global_terrorism_df.columns.tolist():\n",
        "  print(f'The unique value in {i}, is {global_terrorism_df[i].nunique()}')"
      ],
      "metadata": {
        "id": "zms12Yq5n-jE"
      },
      "execution_count": null,
      "outputs": []
    },
    {
      "cell_type": "markdown",
      "source": [
        "## 3. ***Data Wrangling***"
      ],
      "metadata": {
        "id": "dauF4eBmngu3"
      }
    },
    {
      "cell_type": "markdown",
      "source": [
        "### Data Wrangling Code"
      ],
      "metadata": {
        "id": "bKJF3rekwFvQ"
      }
    },
    {
      "cell_type": "code",
      "source": [
        "# Write your code to make your dataset analysis ready.\n",
        "# Firstly create suitable columns name for recall and easy way to visualization\n",
        "\n",
        "global_terrorism_df = global_terrorism_df.rename(columns={'iyear':'Year','imonth':'Month','iday':'Day','country_txt':'Country','region_txt':'Region',\n",
        "                                                          'attacktype1_txt':'Attack_type','targtype1_txt':'Target_type',\n",
        "                                                          'provstate':'State','city':'City','nkill':'Killed','target1':'Target','nwound':'Wounded',\n",
        "                                                          'summary':'Summary', 'motive':'Motive',\n",
        "                                                          'targsubtype1_txt':'Target_subtype','gname':'Group_name','weaptype1_txt':'Weapon_type'})"
      ],
      "metadata": {
        "id": "wk-9a2fpoLcV"
      },
      "execution_count": null,
      "outputs": []
    },
    {
      "cell_type": "code",
      "source": [
        "global_terrorism_df = global_terrorism_df[['Year','Month','Day','Country','Region','Attack_type','Target_type','State','City','Killed','Target','Wounded','Summary','Motive','Target_subtype','Group_name','Weapon_type']]"
      ],
      "metadata": {
        "id": "deSs7SZSSpth"
      },
      "execution_count": null,
      "outputs": []
    },
    {
      "cell_type": "code",
      "source": [
        "global_terrorism_df.head()"
      ],
      "metadata": {
        "id": "tBTq0K9gUOgc"
      },
      "execution_count": null,
      "outputs": []
    },
    {
      "cell_type": "code",
      "source": [
        "# let's check updated shape of the updated dataframe\n",
        "\n",
        "global_terrorism_df.shape"
      ],
      "metadata": {
        "id": "eH6fUV3zVupE"
      },
      "execution_count": null,
      "outputs": []
    },
    {
      "cell_type": "code",
      "source": [
        "# let's check the info of the updated dataframe\n",
        "global_terrorism_df.info()"
      ],
      "metadata": {
        "id": "Rt4t1qyvSvbj"
      },
      "execution_count": null,
      "outputs": []
    },
    {
      "cell_type": "code",
      "source": [
        "# describe the updated dataframe\n",
        "\n",
        "global_terrorism_df.describe()"
      ],
      "metadata": {
        "id": "Pt4pEzsmZVmp"
      },
      "execution_count": null,
      "outputs": []
    },
    {
      "cell_type": "code",
      "source": [
        "# let's do some value count operation on some columns for updated dataframe\n",
        "\n"
      ],
      "metadata": {
        "id": "AxgMAXqGZVdD"
      },
      "execution_count": null,
      "outputs": []
    },
    {
      "cell_type": "code",
      "source": [
        "# default head paramater\n",
        "global_terrorism_df['Year'].value_counts().head()"
      ],
      "metadata": {
        "id": "6YxBwsRYZVSf"
      },
      "execution_count": null,
      "outputs": []
    },
    {
      "cell_type": "code",
      "source": [
        "global_terrorism_df['Month'].value_counts().head()\n"
      ],
      "metadata": {
        "id": "C3XFQid3ZVCn"
      },
      "execution_count": null,
      "outputs": []
    },
    {
      "cell_type": "code",
      "source": [
        "global_terrorism_df['Day'].value_counts().head()\n"
      ],
      "metadata": {
        "id": "mSYZHFVzZUyZ"
      },
      "execution_count": null,
      "outputs": []
    },
    {
      "cell_type": "code",
      "source": [
        "global_terrorism_df['Country'].value_counts().head()\n"
      ],
      "metadata": {
        "id": "Y1HMeRoyetyE"
      },
      "execution_count": null,
      "outputs": []
    },
    {
      "cell_type": "code",
      "source": [
        "global_terrorism_df['Region'].value_counts().head()\n"
      ],
      "metadata": {
        "id": "PUP-3vlietub"
      },
      "execution_count": null,
      "outputs": []
    },
    {
      "cell_type": "code",
      "source": [
        "global_terrorism_df['Attack_type'].value_counts().head()\n"
      ],
      "metadata": {
        "id": "D1jJieOhetsQ"
      },
      "execution_count": null,
      "outputs": []
    },
    {
      "cell_type": "code",
      "source": [
        "global_terrorism_df['Target_type'].value_counts().head()"
      ],
      "metadata": {
        "id": "vtZbxPtRetgN"
      },
      "execution_count": null,
      "outputs": []
    },
    {
      "cell_type": "code",
      "source": [
        "# Distribution of data on each series in the Dataframe\n",
        "global_terrorism_df.hist(figsize= (15,9))"
      ],
      "metadata": {
        "id": "62MxUEOEetdK"
      },
      "execution_count": null,
      "outputs": []
    },
    {
      "cell_type": "markdown",
      "source": [
        "### What all manipulations have you done and insights you found?"
      ],
      "metadata": {
        "id": "MSa1f5Uengrz"
      }
    },
    {
      "cell_type": "markdown",
      "source": [
        "All manipulation Done is:\n",
        "\n",
        "Import essential library which helps in manipulation and visualization\n",
        "mount drive to collab, and import global terrorism dataset\n",
        "Read this dataset, perform some basic operation to look into and guess something about data\n",
        "check the shape and size of dataset\n",
        "check the rows and columns\n",
        "count the duplicate value int the dataset\n",
        "\n",
        "Now its difficult to ready column name so we can change the column name for more readable and easily useable.\n",
        "Filter some useful column so that we use these column for own visualization and operation \n",
        "\n",
        "Check the unique value of each column and count them\n",
        "\n",
        "\n",
        "The insight that I found:\n",
        "\n",
        "1. The Dataset contains 135 columns. There are many columns in dataset that doesn't make sense and it is not used in any kind of practics\n",
        "2. RangeIndex: 181691 entries, 0 to 181690\n",
        "Columns: 135 entries, eventid to related\n",
        "dtypes: float64(55), int64(22), object(58)\n",
        "memory usage: 187.1+ MB\n",
        "3. Shape and size of DataFrame is-((181691, 135), 24528285)\n",
        "4. DataFrame consist of Null Values\n",
        "eventid 0, Year  0,Month   0, Day   0, approxdate    172452\n",
        "INT_LOG    0,INT_IDEO   0, INT_MISC    0, INT_ANY      0,related     156653\n",
        "Length: 135, dtype: int64\n",
        "\n"
      ],
      "metadata": {
        "id": "LbyXE7I1olp8"
      }
    },
    {
      "cell_type": "markdown",
      "source": [
        "## ***4. Data Vizualization, Storytelling & Experimenting with charts : Understand the relationships between variables***"
      ],
      "metadata": {
        "id": "GF8Ens_Soomf"
      }
    },
    {
      "cell_type": "markdown",
      "source": [
        "#### Chart - 1"
      ],
      "metadata": {
        "id": "0wOQAZs5pc--"
      }
    },
    {
      "cell_type": "code",
      "source": [
        "# Chart - 1 visualization code\n",
        "# To check the maximum attack happen at which year\n",
        "# and how has this changed over time\n",
        "plt.figure(figsize=(20,10))\n",
        "plt.xticks(rotation=75)\n",
        "plt.title('Terror Attack Year Wise', fontsize=15, color = 'green')\n",
        "sns.countplot(x=global_terrorism_df.Year)"
      ],
      "metadata": {
        "id": "7v_ESjsspbW7"
      },
      "execution_count": null,
      "outputs": []
    },
    {
      "cell_type": "markdown",
      "source": [
        "##### 1. Why did you pick the specific chart?"
      ],
      "metadata": {
        "id": "K5QZ13OEpz2H"
      }
    },
    {
      "cell_type": "markdown",
      "source": [
        "Here we take year as X-axis and count as Y-Axis and the reasion that we use a count plot because the count plot displays the count of the observations of each category. It is useful for displaying the distribution of a categorical variable, and it is often used to visualize the frequency of each category"
      ],
      "metadata": {
        "id": "XESiWehPqBRc"
      }
    },
    {
      "cell_type": "markdown",
      "source": [
        "##### 2. What is/are the insight(s) found from the chart?"
      ],
      "metadata": {
        "id": "lQ7QKXXCp7Bj"
      }
    },
    {
      "cell_type": "markdown",
      "source": [
        "As we the graph and found that 2014 and 2015 was the year that was most influenced by terror attack. As in 1970 the terror was started and upto 1974 the terrorist attack was not increase it's quite similar pattern. After 1974 it increase lineraly till 1979. Atfer 1996 a certain drop in terror attack, possibility of impower of defence and inforcement section."
      ],
      "metadata": {
        "id": "C_j1G7yiqdRP"
      }
    },
    {
      "cell_type": "markdown",
      "source": [
        "##### 3. Will the gained insights help creating a positive business impact? \n",
        "Are there any insights that lead to negative growth? Justify with specific reason."
      ],
      "metadata": {
        "id": "448CDAPjqfQr"
      }
    },
    {
      "cell_type": "markdown",
      "source": [
        "yes, there is negative trend found in graphs.\n",
        "From 1992 to 2007 there is sudden drop in terror attack. The reason is being impower of inforcement act, defence system, initiative taken by government to pull-down these terror attack. It's my opinion."
      ],
      "metadata": {
        "id": "3cspy4FjqxJW"
      }
    },
    {
      "cell_type": "markdown",
      "source": [
        "#### Chart - 2"
      ],
      "metadata": {
        "id": "KSlN3yHqYklG"
      }
    },
    {
      "cell_type": "code",
      "source": [
        "# Chart - 2 visualization code\n",
        "# Most or least terror attack in each countries and their regions\n",
        "fig,axes = plt.subplots(figsize= (10,4),nrows=1,ncols=2)\n",
        "sns.barplot(x=global_terrorism_df['Country'].value_counts()[:20].values, y = global_terrorism_df['Country'].value_counts()[0:20].index, ax=axes[0],palette = 'RdBu')\n",
        "axes[0].set_title('Terror influence per Country')\n",
        "axes[0].set_xlabel('count')\n",
        "axes[0].set_ylabel('Countries_Name')\n",
        "\n",
        "sns.barplot(x=global_terrorism_df['Region'].value_counts().values, y=global_terrorism_df['Region'].value_counts().index, ax = axes[1], palette = 'Paired')\n",
        "axes[1].set_title('terror influence per Region')\n",
        "axes[1].set_xlabel('Count')\n",
        "axes[1].set_ylabel('Regions_name')\n",
        "fig.tight_layout()\n",
        "plt.show()\n"
      ],
      "metadata": {
        "id": "R4YgtaqtYklH"
      },
      "execution_count": null,
      "outputs": []
    },
    {
      "cell_type": "markdown",
      "source": [
        "##### 1. Why did you pick the specific chart?"
      ],
      "metadata": {
        "id": "t6dVpIINYklI"
      }
    },
    {
      "cell_type": "markdown",
      "source": [
        "Here we prefer barplot because bar graph are common to understand and it provide very easy perception. We all have a better understanding with the size of length. Here we compared most influenced Attack in country or its region. "
      ],
      "metadata": {
        "id": "5aaW0BYyYklI"
      }
    },
    {
      "cell_type": "markdown",
      "source": [
        "##### 2. What is/are the insight(s) found from the chart?"
      ],
      "metadata": {
        "id": "ijmpgYnKYklI"
      }
    },
    {
      "cell_type": "markdown",
      "source": [
        "**1st.** About Countries influenced by Terror Attack:\n",
        "Here At axes-0 we plot about country. Insight seems that the most influenced terror attack counrty is **Iraq** that's counted approximatly **25000** and the least influenced terror attack country is **Egypy** that's nearly about **less than** **5000** count\n",
        "\n",
        "**2nd** About Regions influenced by Terror Attack\n",
        "Here At 2nd Figure which is axes-2. It shows that the most influence terrorist attack region is Middle East and North Affrica which is near about **50000** and the least affect by terror attack is Australasia and Oceania which is nearly about 0"
      ],
      "metadata": {
        "id": "PSx9atu2YklI"
      }
    },
    {
      "cell_type": "markdown",
      "source": [
        "##### 3. Will the gained insights help creating a positive business impact? \n",
        "Are there any insights that lead to negative growth? Justify with specific reason."
      ],
      "metadata": {
        "id": "-JiQyfWJYklI"
      }
    },
    {
      "cell_type": "markdown",
      "source": [
        " As the most influences by terror country which is Iqaq. Here it seems that the defence role is not performing well to stop these attack there is some serious issue with its policy maker and defence system. \n",
        " The nation must be work on his internal affairs system and policy also to better fortify their line of control and boundaries. "
      ],
      "metadata": {
        "id": "BcBbebzrYklV"
      }
    },
    {
      "cell_type": "markdown",
      "source": [
        "#### Chart - 3"
      ],
      "metadata": {
        "id": "EM7whBJCYoAo"
      }
    },
    {
      "cell_type": "code",
      "source": [
        "# Chart - 3 visualization code\n",
        "# Insense of Economy Factor Which country is least affacted by Terror Attack \n",
        "# Using try and except method:\n",
        "\n",
        "try:\n",
        "  cu = global_terrorism_df['Country'].value_counts()\n",
        "  cu.sort_values(axis = 0,inplace=True, ascending=[True])\n",
        "except Exception as c:\n",
        "  print(c)\n",
        "else:\n",
        "  # now we have ploting graph horizontally\n",
        "  plt.rcParams['figure.figsize'] = (19,22)\n",
        "  cu[0:30].plot(kind='barh',color='red')\n",
        "  plt.ylabel('Country', color='Green',fontsize = 13)\n",
        "  plt.xlabel('Total Attack Count',color='green',fontsize=13)  \n",
        "  plt.show()"
      ],
      "metadata": {
        "id": "t6GMdE67YoAp"
      },
      "execution_count": null,
      "outputs": []
    },
    {
      "cell_type": "markdown",
      "source": [
        "##### 1. Why did you pick the specific chart?"
      ],
      "metadata": {
        "id": "fge-S5ZAYoAp"
      }
    },
    {
      "cell_type": "markdown",
      "source": [
        "Bar Garph or Bar plot is very easy to perseverance for Stack-Holder or any Person. Here we Plot Total Atack on X-axes with respect to Y ases and the Y axes about country."
      ],
      "metadata": {
        "id": "5dBItgRVYoAp"
      }
    },
    {
      "cell_type": "markdown",
      "source": [
        "##### 2. What is/are the insight(s) found from the chart?"
      ],
      "metadata": {
        "id": "85gYPyotYoAp"
      }
    },
    {
      "cell_type": "markdown",
      "source": [
        "Here We see that this chart clearly shows the least impactful terror attack country name. such as Antigua and Barbuda, Vatican City, Falkland Islands, St.Lucia, North Korea, Andorra, International, South Vietnam, New Hebrides, Wallis and Futuna These have list impact of a terror attack. Its shows that their governance is more emphasize the enforcement of rule.\n",
        "The Governance, law and acts are better perfom in these Countries."
      ],
      "metadata": {
        "id": "4jstXR6OYoAp"
      }
    },
    {
      "cell_type": "markdown",
      "source": [
        "##### 3. Will the gained insights help creating a positive business impact? \n",
        "Are there any insights that lead to negative growth? Justify with specific reason."
      ],
      "metadata": {
        "id": "RoGjAbkUYoAp"
      }
    },
    {
      "cell_type": "markdown",
      "source": [
        "Yes, the insight help us to creating a positive business impact like as we know that there is some intelligence in every country like in India(RAW, IB, NIA). These agency have many source to know what's going on regarding Defence. If these type of agency in each countries get sufficient resources, then its better fortify their boundaries and manage all kind of such situation. \n",
        "Also these countries should work on their governance system and thier laws and acts."
      ],
      "metadata": {
        "id": "zfJ8IqMcYoAp"
      }
    },
    {
      "cell_type": "markdown",
      "source": [
        "#### Chart - 4"
      ],
      "metadata": {
        "id": "4Of9eVA-YrdM"
      }
    },
    {
      "cell_type": "code",
      "source": [
        "# Chart - 4 visualization code\n",
        "# the most common types of targets for terrorist attacks\n",
        "# attacks on target based:\n",
        "plt.rcParams['figure.figsize']  = (15,8)\n",
        "plt.xticks(rotation = 90)\n",
        "plt.title('Target Type', fontsize= 25)\n",
        "\n",
        "sns.countplot(x = global_terrorism_df.Target_type)"
      ],
      "metadata": {
        "id": "irlUoxc8YrdO"
      },
      "execution_count": null,
      "outputs": []
    },
    {
      "cell_type": "markdown",
      "source": [
        "##### 1. Why did you pick the specific chart?"
      ],
      "metadata": {
        "id": "iky9q4vBYrdO"
      }
    },
    {
      "cell_type": "markdown",
      "source": [
        "Bar Garph or Bar plot is to show that total casualities/target."
      ],
      "metadata": {
        "id": "aJRCwT6DYrdO"
      }
    },
    {
      "cell_type": "markdown",
      "source": [
        "##### 2. What is/are the insight(s) found from the chart?"
      ],
      "metadata": {
        "id": "F6T5p64dYrdO"
      }
    },
    {
      "cell_type": "markdown",
      "source": [
        "Here we clearly see that terrorist mainly target Private citizens and property, Police, Buisness, Military\n"
      ],
      "metadata": {
        "id": "Xx8WAJvtYrdO"
      }
    },
    {
      "cell_type": "markdown",
      "source": [
        "##### 3. Will the gained insights help creating a positive business impact? \n",
        "Are there any insights that lead to negative growth? Justify with specific reason."
      ],
      "metadata": {
        "id": "y-Ehk30pYrdP"
      }
    },
    {
      "cell_type": "markdown",
      "source": [
        "This insight tell that security in public place must be need to imporve."
      ],
      "metadata": {
        "id": "jLNxxz7MYrdP"
      }
    },
    {
      "cell_type": "markdown",
      "source": [
        "#### Chart - 5"
      ],
      "metadata": {
        "id": "bamQiAODYuh1"
      }
    },
    {
      "cell_type": "code",
      "source": [
        "# Chart - 5 visualization code\n",
        "# Which type of Method taken by terrorist organization for terror\n",
        "# Method of Attack.\n",
        "\n",
        "plt.rcParams['figure.figsize'] = (18,6)\n",
        "plt.xticks(rotation=75)\n",
        "plt.xlabel('Types_Attack')\n",
        "plt.title('Attacking_Way_of_Terrorist')\n",
        "sns.countplot(global_terrorism_df['Attack_type'],order = global_terrorism_df['Attack_type'].value_counts().index)\n",
        "plt.show() "
      ],
      "metadata": {
        "id": "TIJwrbroYuh3"
      },
      "execution_count": null,
      "outputs": []
    },
    {
      "cell_type": "markdown",
      "source": [
        "##### 1. Why did you pick the specific chart?"
      ],
      "metadata": {
        "id": "QHF8YVU7Yuh3"
      }
    },
    {
      "cell_type": "markdown",
      "source": [
        "By this chart we have to configure that which ways terrorist attack."
      ],
      "metadata": {
        "id": "dcxuIMRPYuh3"
      }
    },
    {
      "cell_type": "markdown",
      "source": [
        "##### 2. What is/are the insight(s) found from the chart?"
      ],
      "metadata": {
        "id": "GwzvFGzlYuh3"
      }
    },
    {
      "cell_type": "markdown",
      "source": [
        "The insight tell us that Bombing/Explosive, Armed Assult are the major type of attacking type"
      ],
      "metadata": {
        "id": "uyqkiB8YYuh3"
      }
    },
    {
      "cell_type": "markdown",
      "source": [
        "##### 3. Will the gained insights help creating a positive business impact? \n",
        "Are there any insights that lead to negative growth? Justify with specific reason."
      ],
      "metadata": {
        "id": "qYpmQ266Yuh3"
      }
    },
    {
      "cell_type": "markdown",
      "source": [
        " Government should take inititive to keep some restriction on those type of material which is used to making bomb and to government agency or body also keep eyes on boarder area where the armed assault not exchange in any countries"
      ],
      "metadata": {
        "id": "_WtzZ_hCYuh4"
      }
    },
    {
      "cell_type": "markdown",
      "source": [
        "#### Chart - 6"
      ],
      "metadata": {
        "id": "OH-pJp9IphqM"
      }
    },
    {
      "cell_type": "code",
      "source": [
        "# Chart - 6 visualization code\n",
        "# To Visualize the Top most affected state we take only 5 sample\n",
        "plt.rcParams['figure.figsize']=(18,6)\n",
        "plt.title('Top State affected by terrorism attack')\n",
        "plt.xlabel('States_Name')\n",
        "plt.ylabel('Attack in Number')\n",
        "plt.xticks(rotation=0)\n",
        "sns.barplot(global_terrorism_df['State'].value_counts()[:6].index,\n",
        "            global_terrorism_df['State'].value_counts()[:6].values, label='Most Affected State')\n",
        "plt.show()"
      ],
      "metadata": {
        "id": "kuRf4wtuphqN"
      },
      "execution_count": null,
      "outputs": []
    },
    {
      "cell_type": "markdown",
      "source": [
        "##### 1. Why did you pick the specific chart?"
      ],
      "metadata": {
        "id": "bbFf2-_FphqN"
      }
    },
    {
      "cell_type": "markdown",
      "source": [
        "Here we use barplot to show the most attack state. Bar charts should be used when you are showing segments of information."
      ],
      "metadata": {
        "id": "loh7H2nzphqN"
      }
    },
    {
      "cell_type": "markdown",
      "source": [
        "##### 2. What is/are the insight(s) found from the chart?"
      ],
      "metadata": {
        "id": "_ouA3fa0phqN"
      }
    },
    {
      "cell_type": "markdown",
      "source": [
        "Here we clearly see that the most affected state was Badgdad"
      ],
      "metadata": {
        "id": "VECbqPI7phqN"
      }
    },
    {
      "cell_type": "markdown",
      "source": [
        "##### 3. Will the gained insights help creating a positive business impact? \n",
        "Are there any insights that lead to negative growth? Justify with specific reason."
      ],
      "metadata": {
        "id": "Seke61FWphqN"
      }
    },
    {
      "cell_type": "markdown",
      "source": [
        "Yes, It seems like most terror attack happen in Bagdad. Government and its body like internal agency should work on his laws and policy. Provide resource to Internal affair and agency that takecare about it."
      ],
      "metadata": {
        "id": "DW4_bGpfphqN"
      }
    },
    {
      "cell_type": "markdown",
      "source": [
        "#### Chart - 7"
      ],
      "metadata": {
        "id": "PIIx-8_IphqN"
      }
    },
    {
      "cell_type": "code",
      "source": [
        "# Chart - 7 visualization code\n",
        "# Find any kind of link or we can say trend before and after the war.\n",
        "\n",
        "\n",
        "data_seems_after = global_terrorism_df[global_terrorism_df['Year']>=1972]\n",
        "pic,ax = plt.subplots(figsize=(28,16),nrows=2,ncols=1)\n",
        "ax[0] = pd.crosstab(global_terrorism_df.Year, global_terrorism_df.Region).plot(ax=ax[0])\n",
        "ax[0].set_title('Regions change per year')\n",
        "ax[0].legend(loc='center left',bbox_to_anchor=(1,0.5))\n",
        "ax[0].vlines(x=1972, ymin=0, ymax=7000, linestyles='--')\n",
        "pd.crosstab(data_seems_after.Year, data_seems_after.Region).plot.bar(stacked=True, ax = ax[1])\n",
        "ax[1].set_title('After Declaration of war on Terror (1972-2017)')\n",
        "ax[1].legend(loc='center left',bbox_to_anchor=(1,0.5))\n",
        "plt.show()"
      ],
      "metadata": {
        "id": "lqAIGUfyphqO"
      },
      "execution_count": null,
      "outputs": []
    },
    {
      "cell_type": "markdown",
      "source": [
        "##### 1. Why did you pick the specific chart?"
      ],
      "metadata": {
        "id": "t27r6nlMphqO"
      }
    },
    {
      "cell_type": "markdown",
      "source": [
        "This chart is used to understand the trend of Terror before the war and after the war"
      ],
      "metadata": {
        "id": "iv6ro40sphqO"
      }
    },
    {
      "cell_type": "markdown",
      "source": [
        "##### 2. What is/are the insight(s) found from the chart?"
      ],
      "metadata": {
        "id": "r2jJGEOYphqO"
      }
    },
    {
      "cell_type": "markdown",
      "source": [
        "Here the first graph tell us that the terror landscape before and after the war.\n",
        "If we see that the trend line after 2007 there is a huge rise in terrorism numbers and at the starting of 1972 to 1977 this might to grow rise very slow. At 1997 it seems that a big drop in terror attack."
      ],
      "metadata": {
        "id": "Po6ZPi4hphqO"
      }
    },
    {
      "cell_type": "markdown",
      "source": [
        "##### 3. Will the gained insights help creating a positive business impact? \n",
        "Are there any insights that lead to negative growth? Justify with specific reason."
      ],
      "metadata": {
        "id": "b0JNsNcRphqO"
      }
    },
    {
      "cell_type": "markdown",
      "source": [
        "If we see that the trend line after 2007 there is a huge rise in terrorism numbers and at the starting of 1972 to 1977 this might to grow rise very slow. At 1997 it seems that a big drop in terror attack."
      ],
      "metadata": {
        "id": "xvSq8iUTphqO"
      }
    },
    {
      "cell_type": "markdown",
      "source": [
        "#### Chart - 8"
      ],
      "metadata": {
        "id": "BZR9WyysphqO"
      }
    },
    {
      "cell_type": "code",
      "source": [
        "# Chart - 8 visualization code\n",
        "# Analyze which of the day terror activity was highly active\n",
        "\n",
        "plt.rcParams['figure.figsize']=(18,6)\n",
        "plt.title('Terror Attack by Days', color='green')\n",
        "sns.countplot(x=global_terrorism_df.Day)\n",
        "plt.show()"
      ],
      "metadata": {
        "id": "TdPTWpAVphqO"
      },
      "execution_count": null,
      "outputs": []
    },
    {
      "cell_type": "markdown",
      "source": [
        "##### 1. Why did you pick the specific chart?"
      ],
      "metadata": {
        "id": "jj7wYXLtphqO"
      }
    },
    {
      "cell_type": "markdown",
      "source": [
        "This Graph tell us about on which day terror activity was mostly happened."
      ],
      "metadata": {
        "id": "Ob8u6rCTphqO"
      }
    },
    {
      "cell_type": "markdown",
      "source": [
        "##### 2. What is/are the insight(s) found from the chart?"
      ],
      "metadata": {
        "id": "eZrbJ2SmphqO"
      }
    },
    {
      "cell_type": "markdown",
      "source": [
        "The Graph tells us that the mostly attacks were  happen generally on 15th of months, and also the least attacks were happen 31th of the months"
      ],
      "metadata": {
        "id": "mZtgC_hjphqO"
      }
    },
    {
      "cell_type": "markdown",
      "source": [
        "##### 3. Will the gained insights help creating a positive business impact? \n",
        "Are there any insights that lead to negative growth? Justify with specific reason."
      ],
      "metadata": {
        "id": "rFu4xreNphqO"
      }
    },
    {
      "cell_type": "markdown",
      "source": [
        "Agency should  must be most on 15th of months. The security of the public place must be increase on those day. And any kind of function which is happend on large scale must be happend on 31th of the months"
      ],
      "metadata": {
        "id": "ey_0qi68phqO"
      }
    },
    {
      "cell_type": "markdown",
      "source": [
        "#### Chart - 9"
      ],
      "metadata": {
        "id": "YJ55k-q6phqO"
      }
    },
    {
      "cell_type": "code",
      "source": [
        "# Chart - 9 visualization code\n",
        "# Analyzing Terrorist Active by Regions\n",
        "pd.crosstab(global_terrorism_df.Year, global_terrorism_df.Region).plot(kind='area')\n",
        "plt.title('Terrorist Active By Regions')\n",
        "plt.ylabel('number of Attacks')\n",
        "plt.show"
      ],
      "metadata": {
        "id": "B2aS4O1ophqO"
      },
      "execution_count": null,
      "outputs": []
    },
    {
      "cell_type": "markdown",
      "source": [
        "##### 1. Why did you pick the specific chart?"
      ],
      "metadata": {
        "id": "gCFgpxoyphqP"
      }
    },
    {
      "cell_type": "markdown",
      "source": [
        "Area graph has very benefit as like it tell us about rise and fall, total amount over time."
      ],
      "metadata": {
        "id": "TVxDimi2phqP"
      }
    },
    {
      "cell_type": "markdown",
      "source": [
        "##### 2. What is/are the insight(s) found from the chart?"
      ],
      "metadata": {
        "id": "OVtJsKN_phqQ"
      }
    },
    {
      "cell_type": "markdown",
      "source": [
        "The area plot show about Regions influenced by Terror activity\n",
        "It shows that the most influence terrorist activity region is Central America and Caraibeean which is near about **16000** and the least affect by terror activity is East Asia and Eastern Europe which is nearly about 0 to 2000."
      ],
      "metadata": {
        "id": "ngGi97qjphqQ"
      }
    },
    {
      "cell_type": "markdown",
      "source": [
        "##### 3. Will the gained insights help creating a positive business impact? \n",
        "Are there any insights that lead to negative growth? Justify with specific reason."
      ],
      "metadata": {
        "id": "lssrdh5qphqQ"
      }
    },
    {
      "cell_type": "markdown",
      "source": [
        "Yes, the insight help us to creating a positive business impact like as we know that there is some intelligence in every country like in India(RAW, IB, NIA). These agency have many source to know what's going on regarding Defence. If these type of agency in each countries get sufficient resources, then its better fortify their boundaries and manage all kind of such situation. \n",
        "Also these countries should work on their governance system and thier laws and acts."
      ],
      "metadata": {
        "id": "tBpY5ekJphqQ"
      }
    },
    {
      "cell_type": "markdown",
      "source": [
        "#### Chart - 10"
      ],
      "metadata": {
        "id": "U2RJ9gkRphqQ"
      }
    },
    {
      "cell_type": "code",
      "source": [
        "# Chart - 10 visualization code\n",
        "# Calculate the total number of people Killed - Regions wise\n",
        "\n",
        "df = global_terrorism_df[['Region','Killed']].groupby('Region').sum().sort_values(by='Killed')\n",
        "print(df)\n",
        "\n",
        "# Let's plot a chart:\n",
        "plt.rcParams['figure.figsize']=(18,6)\n",
        "df.plot(kind='bar', color='Red')\n",
        "plt.title('Total number of people killed region wise', color='green', fontsize=24)\n",
        "plt.xlabel('Region', color='green', fontsize=15)\n",
        "plt.ylabel('Number of people killed',  color='green', fontsize=15)\n",
        "plt.show()"
      ],
      "metadata": {
        "id": "GM7a4YP4phqQ"
      },
      "execution_count": null,
      "outputs": []
    },
    {
      "cell_type": "markdown",
      "source": [
        "##### 1. Why did you pick the specific chart?"
      ],
      "metadata": {
        "id": "1M8mcRywphqQ"
      }
    },
    {
      "cell_type": "markdown",
      "source": [
        "The barplot chart show the clear message here we plot total number of people killed region- wise"
      ],
      "metadata": {
        "id": "8agQvks0phqQ"
      }
    },
    {
      "cell_type": "markdown",
      "source": [
        "##### 2. What is/are the insight(s) found from the chart?"
      ],
      "metadata": {
        "id": "tgIPom80phqQ"
      }
    },
    {
      "cell_type": "markdown",
      "source": [
        "The Graph tell us that the maximum people killed in Region which is Middle East and  North Africa and the least casualty region was Australasia and Oceania. The Middle East and  North Africa have 50474 attack with 137642 people died"
      ],
      "metadata": {
        "id": "Qp13pnNzphqQ"
      }
    },
    {
      "cell_type": "markdown",
      "source": [
        "##### 3. Will the gained insights help creating a positive business impact? \n",
        "Are there any insights that lead to negative growth? Justify with specific reason."
      ],
      "metadata": {
        "id": "JMzcOPDDphqR"
      }
    },
    {
      "cell_type": "markdown",
      "source": [
        "The main reason and the drastically increase of death in Middel east and North Africa due to Democracy and civil conflict. Governmant and their Agency take action on these."
      ],
      "metadata": {
        "id": "R4Ka1PC2phqR"
      }
    },
    {
      "cell_type": "markdown",
      "source": [
        "#### Chart - 11"
      ],
      "metadata": {
        "id": "x-EpHcCOp1ci"
      }
    },
    {
      "cell_type": "code",
      "source": [
        "# Chart - 11 visualization code\n",
        "#Region-Wise we have to Calculate the total number of Wounded people \n",
        "df = global_terrorism_df[['Region','Wounded']].groupby('Region').sum().sort_values(by='Wounded')\n",
        "print(df)\n",
        "\n",
        "# Now we have to plot a chart to visualize these data\n",
        "\n",
        "plt.rcParams['figure.figsize']=(18,6)\n",
        "df.plot(kind='bar', color='Red')\n",
        "plt.title('Total number of people Wounded', color='green', fontsize=24)\n",
        "plt.xlabel('Region', color='green', fontsize=15)\n",
        "plt.ylabel('Number of people Wounded',  color='green', fontsize=15)\n",
        "plt.show()"
      ],
      "metadata": {
        "id": "mAQTIvtqp1cj"
      },
      "execution_count": null,
      "outputs": []
    },
    {
      "cell_type": "markdown",
      "source": [
        "##### 1. Why did you pick the specific chart?"
      ],
      "metadata": {
        "id": "X_VqEhTip1ck"
      }
    },
    {
      "cell_type": "markdown",
      "source": [
        "The barplot chart show the clear message here we plot total number of people Wounded region- wise"
      ],
      "metadata": {
        "id": "-vsMzt_np1ck"
      }
    },
    {
      "cell_type": "markdown",
      "source": [
        "##### 2. What is/are the insight(s) found from the chart?"
      ],
      "metadata": {
        "id": "8zGJKyg5p1ck"
      }
    },
    {
      "cell_type": "markdown",
      "source": [
        "The Graph tell us that the maximum people Wounded in Region which is Middle East and  North Africa and the least casualty region was Australasia and Oceania. The Middle East and  North Africa have 50474 attack with 214308 people Wounded"
      ],
      "metadata": {
        "id": "ZYdMsrqVp1ck"
      }
    },
    {
      "cell_type": "markdown",
      "source": [
        "##### 3. Will the gained insights help creating a positive business impact? \n",
        "Are there any insights that lead to negative growth? Justify with specific reason."
      ],
      "metadata": {
        "id": "PVzmfK_Ep1ck"
      }
    },
    {
      "cell_type": "markdown",
      "source": [
        "The main reason and the drastically increase of death in Middel east and North Africa due to Democracy and civil conflict. Governmant and their Agency take action on these."
      ],
      "metadata": {
        "id": "druuKYZpp1ck"
      }
    },
    {
      "cell_type": "markdown",
      "source": [
        "#### Chart - 12"
      ],
      "metadata": {
        "id": "n3dbpmDWp1ck"
      }
    },
    {
      "cell_type": "code",
      "source": [
        "# Chart - 12 visualization code\n",
        "# Visualize those countries that defence system have need more imporvement \n",
        "\n",
        "# we have to calculate the maximum number of attack happen in which country\n",
        "\n",
        "df = global_terrorism_df['Country'].value_counts().head(15)\n",
        "print(df)\n",
        "\n",
        "# now we have to visulaize by chart\n",
        "# we used pie chart for visuals\n",
        "\n",
        "plt.rcParams['figure.figsize']=(10,15)\n",
        "df.plot(kind='pie')\n",
        "plt.title('Name of Country that have most Attack', color='green')\n",
        "plt.xlabel('Countries_Name',color='green')\n",
        "plt.ylabel('Total Number of Attack on that Country', color='green')\n",
        "plt.show()"
      ],
      "metadata": {
        "id": "bwevp1tKp1ck"
      },
      "execution_count": null,
      "outputs": []
    },
    {
      "cell_type": "markdown",
      "source": [
        "##### 1. Why did you pick the specific chart?"
      ],
      "metadata": {
        "id": "ylSl6qgtp1ck"
      }
    },
    {
      "cell_type": "markdown",
      "source": [
        "Here we choose pie chart due to a pie chart expresses a part-to-whole relationship in your data. "
      ],
      "metadata": {
        "id": "m2xqNkiQp1ck"
      }
    },
    {
      "cell_type": "markdown",
      "source": [
        "##### 2. What is/are the insight(s) found from the chart?"
      ],
      "metadata": {
        "id": "ZWILFDl5p1ck"
      }
    },
    {
      "cell_type": "markdown",
      "source": [
        "The Visuals shows that Iraq is the most affected country with the heighest rate of terror attack. The total number of attack was 24636."
      ],
      "metadata": {
        "id": "x-lUsV2mp1ck"
      }
    },
    {
      "cell_type": "markdown",
      "source": [
        "##### 3. Will the gained insights help creating a positive business impact? \n",
        "Are there any insights that lead to negative growth? Justify with specific reason."
      ],
      "metadata": {
        "id": "M7G43BXep1ck"
      }
    },
    {
      "cell_type": "markdown",
      "source": [
        "Answer Here"
      ],
      "metadata": {
        "id": "5wwDJXsLp1cl"
      }
    },
    {
      "cell_type": "markdown",
      "source": [
        "#### Chart - 13"
      ],
      "metadata": {
        "id": "Ag9LCva-p1cl"
      }
    },
    {
      "cell_type": "code",
      "source": [
        "# Chart - 13 visualization code\n",
        "# Analyze the main terrorist group operation \n",
        "\n",
        "def main_terror_group():\n",
        "  try:\n",
        "    # top 10 terror organization\n",
        "    terror_attack_count = global_terrorism_df['Group_name'].value_counts().head(10)\n",
        "    # Most affected countries\n",
        "    mac = global_terrorism_df['Country'].value_counts().index[0]\n",
        "    # seg. most effected country\n",
        "    country_eff_count = global_terrorism_df.loc[(global_terrorism_df['Country']==mac)]\n",
        "\n",
        "    # find 5 most terror orginazation\n",
        "    country_eff_count = country_eff_count['Group_name'].value_counts()[0:5]\n",
        "  except Exception as y:\n",
        "    print(y)\n",
        "  else:\n",
        "    # we have to visualize top 10 terror organization\n",
        "\n",
        "    plt.rcParams['figure.figsize']=(16,8)\n",
        "    terror_attack_count.plot(kind='bar')\n",
        "    plt.title('Attack by Top terror Group')\n",
        "    plt.xlabel('Terror Organization')\n",
        "    plt.ylabel('Total Attack')\n",
        "    plt.show()  \n",
        "\n",
        "    # plot top terror group of most affacted country\n",
        "\n",
        "    country_eff_count.plot(kind='bar')\n",
        "    plt.title(f'Contribution of top terror orginazation {mac}')\n",
        "    plt.ylabel('Total Attack ')\n",
        "    plt.xlabel('Terror Orginazation')\n",
        "    plt.show()\n",
        "main_terror_group()"
      ],
      "metadata": {
        "id": "EUfxeq9-p1cl"
      },
      "execution_count": null,
      "outputs": []
    },
    {
      "cell_type": "markdown",
      "source": [
        "##### 1. Why did you pick the specific chart?"
      ],
      "metadata": {
        "id": "E6MkPsBcp1cl"
      }
    },
    {
      "cell_type": "markdown",
      "source": [
        "We use bar graph that it give us a brief study about terror attack count of the top 10 Countries. The lenght of the graph gives a relative idea about the count and difference between various terror group"
      ],
      "metadata": {
        "id": "V22bRsFWp1cl"
      }
    },
    {
      "cell_type": "markdown",
      "source": [
        "##### 2. What is/are the insight(s) found from the chart?"
      ],
      "metadata": {
        "id": "2cELzS2fp1cl"
      }
    },
    {
      "cell_type": "markdown",
      "source": [
        "The graph tells us that the majority hai attack happen in which the Unknown terror Organizaton involved. This Group is the mostly impact on Nation by its terror activity."
      ],
      "metadata": {
        "id": "ozQPc2_Ip1cl"
      }
    },
    {
      "cell_type": "markdown",
      "source": [
        "##### 3. Will the gained insights help creating a positive business impact? \n",
        "Are there any insights that lead to negative growth? Justify with specific reason."
      ],
      "metadata": {
        "id": "3MPXvC8up1cl"
      }
    },
    {
      "cell_type": "markdown",
      "source": [
        "yes, this insight might be helpful to create a positive business impact because the reason is effective peacekeeping efforts require a multifaceted approach that involves intelligence gathering, collaboration between nations, and addressing the underlying causes of terrorism."
      ],
      "metadata": {
        "id": "GL8l1tdLp1cl"
      }
    },
    {
      "cell_type": "markdown",
      "source": [
        "#### Chart - 14 - Correlation Heatmap"
      ],
      "metadata": {
        "id": "NC_X3p0fY2L0"
      }
    },
    {
      "cell_type": "code",
      "source": [
        "# Correlation Heatmap visualization code\n",
        "\n",
        "plt.rcParams['figure.figsize']=(18,6)\n",
        "# shows that how much relation is one parameter to the other in given dataset\n",
        "# annot is basically an array of the same shape as data which is used to annotate the heatmap.\n",
        "sns.heatmap(global_terrorism_df.corr(),annot=True)\n",
        "plt.show()"
      ],
      "metadata": {
        "id": "xyC9zolEZNRQ"
      },
      "execution_count": null,
      "outputs": []
    },
    {
      "cell_type": "markdown",
      "source": [
        "##### 1. Why did you pick the specific chart?"
      ],
      "metadata": {
        "id": "UV0SzAkaZNRQ"
      }
    },
    {
      "cell_type": "markdown",
      "source": [
        "Heatmap is basically used for find correlation between various attributes from the Given  dataset which is Global-terrorism-dataset"
      ],
      "metadata": {
        "id": "DVPuT8LYZNRQ"
      }
    },
    {
      "cell_type": "markdown",
      "source": [
        "##### 2. What is/are the insight(s) found from the chart?"
      ],
      "metadata": {
        "id": "YPEH6qLeZNRQ"
      }
    },
    {
      "cell_type": "markdown",
      "source": [
        "It showing the analyzing data correlation between various type of attribute or we can say columns of the global-terrorism-dataset"
      ],
      "metadata": {
        "id": "bfSqtnDqZNRR"
      }
    },
    {
      "cell_type": "markdown",
      "source": [
        "#### Chart - 15 - Pair Plot "
      ],
      "metadata": {
        "id": "q29F0dvdveiT"
      }
    },
    {
      "cell_type": "code",
      "source": [
        "# Pair Plot visualization code\n",
        "sns.pairplot(global_terrorism_df)\n",
        "plt.show()"
      ],
      "metadata": {
        "id": "o58-TEIhveiU"
      },
      "execution_count": null,
      "outputs": []
    },
    {
      "cell_type": "markdown",
      "source": [
        "##### 1. Why did you pick the specific chart?"
      ],
      "metadata": {
        "id": "EXh0U9oCveiU"
      }
    },
    {
      "cell_type": "markdown",
      "source": [
        "Because It is mention in question"
      ],
      "metadata": {
        "id": "eMmPjTByveiU"
      }
    },
    {
      "cell_type": "markdown",
      "source": [
        "##### 2. What is/are the insight(s) found from the chart?"
      ],
      "metadata": {
        "id": "22aHeOlLveiV"
      }
    },
    {
      "cell_type": "markdown",
      "source": [
        "This is a simple pair-ploting between given instance"
      ],
      "metadata": {
        "id": "uPQ8RGwHveiV"
      }
    },
    {
      "cell_type": "markdown",
      "source": [
        "## **5. Solution to Business Objective**"
      ],
      "metadata": {
        "id": "JcMwzZxoAimU"
      }
    },
    {
      "cell_type": "markdown",
      "source": [
        "#### What do you suggest the client to achieve Business Objective ? \n",
        "Explain Briefly."
      ],
      "metadata": {
        "id": "8G2x9gOozGDZ"
      }
    },
    {
      "cell_type": "markdown",
      "source": [
        "After the all type of observation the result that we obtain is:\n",
        "\n",
        "1st. The most Attack country is Iraq and the most attack state is Baghdad so the Governmant or Central Agency of that region should increase their securities it means the defence and the investigating agence like IB, RAW etc, department and also they should restrict those type of material which is used to making explosive. \n",
        "\n",
        "2nd. All Country state have to take an initiative to make people aware about terrorism. \n",
        "\n",
        "3rd.Their are alse 2nd major attack by  Armed Assault so Govenment of these state should be firmly tighten border security.\n",
        "\n",
        "4th. The main or larger target of these terror organization was Private citizen and Properties so State should be ensure their internal Security.\n",
        "\n",
        "5th. The main terror Organization is Unknown, Taliban and ISIL so the Govenmant or Internal Agency or Government body keep eyes on them."
      ],
      "metadata": {
        "id": "pASKb0qOza21"
      }
    },
    {
      "cell_type": "markdown",
      "source": [
        "# **Conclusion**"
      ],
      "metadata": {
        "id": "gCX9965dhzqZ"
      }
    },
    {
      "cell_type": "markdown",
      "source": [
        "1st. Iraq:-The most attacked  country by Terror Orginazation\n",
        "\n",
        "2nd. 15th of the Day which is the most attacked day of the months\n",
        "\n",
        "3rd. Badhdad: The most attacked state by the terror Organization\n",
        "\n",
        "4th.Private Citizen and properties is the main Target or we can say most based target for the terror organization.\n",
        "\n",
        "5th. 2014 is the  year in which maximum number of terror attack happened\n",
        "\n",
        "6th.Explosive is the mainly involve in maximum number of attack.\n",
        "\n",
        "7th.After 1997 to 2004 is the major breakdown for the terror Organization.\n",
        "\n",
        "8th. least Terror country is Egypt and France\n",
        "\n",
        "9th.The Middle East and North Africa is the most targeted Regions\n",
        "\n",
        "10th.Middle East & North Africa  is the highest number of killing in terror attack 137642.0 and Australasia & Oceania  is the lowest number of killing in terror attack  150.0\n",
        "\n"
      ],
      "metadata": {
        "id": "Fjb1IsQkh3yE"
      }
    },
    {
      "cell_type": "markdown",
      "source": [
        "### ***Hurrah! You have successfully completed your EDA Capstone Project !!!***"
      ],
      "metadata": {
        "id": "gIfDvo9L0UH2"
      }
    }
  ]
}